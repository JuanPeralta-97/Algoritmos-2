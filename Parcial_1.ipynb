{
  "nbformat": 4,
  "nbformat_minor": 0,
  "metadata": {
    "colab": {
      "provenance": [],
      "authorship_tag": "ABX9TyNWZ/PpCyq4GvU5MzihB/r9",
      "include_colab_link": true
    },
    "kernelspec": {
      "name": "python3",
      "display_name": "Python 3"
    },
    "language_info": {
      "name": "python"
    }
  },
  "cells": [
    {
      "cell_type": "markdown",
      "metadata": {
        "id": "view-in-github",
        "colab_type": "text"
      },
      "source": [
        "<a href=\"https://colab.research.google.com/github/JuanPeralta-97/Algoritmos-2/blob/main/Parcial_1.ipynb\" target=\"_parent\"><img src=\"https://colab.research.google.com/assets/colab-badge.svg\" alt=\"Open In Colab\"/></a>"
      ]
    },
    {
      "cell_type": "markdown",
      "source": [
        "Punto 1"
      ],
      "metadata": {
        "id": "o7DurxtM_LA1"
      }
    },
    {
      "cell_type": "markdown",
      "source": [
        "#Andrea Cortes\n",
        "#Juan Peralta"
      ],
      "metadata": {
        "id": "IvB0SleHMqg7"
      }
    },
    {
      "cell_type": "code",
      "execution_count": null,
      "metadata": {
        "colab": {
          "base_uri": "https://localhost:8080/"
        },
        "id": "IrFf29GF9cjI",
        "outputId": "34a360ed-ac81-42aa-b0e5-a567bbd58d1e"
      },
      "outputs": [
        {
          "output_type": "stream",
          "name": "stdout",
          "text": [
            "Coche: Ferrari | Velocidad: 0 km/h | Combustible: 100%\n",
            "Coche: Ferrari | Velocidad: 50 km/h | Combustible: 95.0%\n",
            "Coche: Ferrari | Velocidad: 30 km/h | Combustible: 95.0%\n",
            "Coche: Ferrari | Velocidad: 30 km/h | Combustible: 100%\n"
          ]
        }
      ],
      "source": [
        "class CocheDeCarreras:\n",
        "    # definimos los atributos de la clase, dos iniciales y otros dos no necesarios para crear el objeto ya que tienen un valor estandar\n",
        "    def __init__(self, nombre, velocidad_maxima):\n",
        "        self.nombre = nombre\n",
        "        self.velocidad_masxima = velocidad_maxima\n",
        "        self.velocidad_actual = 0\n",
        "        self.combustible = 100\n",
        "\n",
        "    def acelerar(self, incremento):\n",
        "      # Verificamos primero que no se cumpla la restriccion de la velocidad maxima y si no es asi, aumentamos la velocidad en el valor incremento\n",
        "        if self.velocidad_actual + incremento > self.velocidad_maxima:\n",
        "            self.velocidad_actual = self.velocidad_maxima\n",
        "        else:\n",
        "            self.velocidad_actual += incremento\n",
        "\n",
        "      # Reducir combustible\n",
        "        self.combustible -= (incremento / 10)\n",
        "        if self.combustible < 0:\n",
        "            self.combustible = 0\n",
        "\n",
        "    def frenar(self, decremento):\n",
        "      # Verificamos que la resta del decremento a la velocidad no llegue a dar un numero negativo\n",
        "        if self.velocidad_actual - decremento < 0:\n",
        "            self.velocidad_actual = 0\n",
        "        else:\n",
        "            self.velocidad_actual -= decremento\n",
        "\n",
        "    def recargar_combustible(self, porcentaje):\n",
        "      # aumentamos el combustibles hasta un maximo de 100, el else no es necesario en este caso\n",
        "        self.combustible += porcentaje\n",
        "        if self.combustible > 100:\n",
        "            self.combustible = 100\n",
        "\n",
        "    def mostrar_estado(self):\n",
        "        return f\"Coche: {self.nombre} | Velocidad: {self.velocidad_actual} km/h | Combustible: {self.combustible}%\"\n",
        "\n",
        "# Ejemplo\n",
        "coche = CocheDeCarreras(\"Ferrari\", 300)\n",
        "print(coche.mostrar_estado())\n",
        "\n",
        "coche.acelerar(50)\n",
        "print(coche.mostrar_estado())\n",
        "\n",
        "coche.frenar(20)\n",
        "print(coche.mostrar_estado())\n",
        "\n",
        "coche.recargar_combustible(30)\n",
        "print(coche.mostrar_estado())"
      ]
    },
    {
      "cell_type": "code",
      "source": [
        "class Robot:\n",
        "    def __init__(self, nombre):\n",
        "        self.nombre = nombre\n",
        "        self.bateria = 100\n",
        "        self.posicion = (0, 0)  # (x, y)\n",
        "\n",
        "    def mover(self, direccion, distancia):\n",
        "        # Validamos que la bateria no sea cero para entrar en proceso\n",
        "        if self.bateria <= 0:\n",
        "            print(\"Error: La batería está agotada, el robot no puede moverse.\")\n",
        "            return\n",
        "        # Validamos que la direccion sea una opcion valida\n",
        "        if direccion not in [\"arriba\", \"abajo\", \"izquierda\", \"derecha\"]:\n",
        "            print(\"Error: Dirección inválida.\")\n",
        "            return\n",
        "        # Validamos que la bateria tenga la carga para realizar el movimiento\n",
        "        if self.bateria < distancia:\n",
        "            print(\"Error: La batería no tiene suficiente energía para realizar el movimiento.\")\n",
        "            return\n",
        "\n",
        "        x, y = self.posicion\n",
        "        if direccion == \"arriba\":\n",
        "            y += distancia\n",
        "        elif direccion == \"abajo\":\n",
        "            y -= distancia\n",
        "        elif direccion == \"izquierda\":\n",
        "            x -= distancia\n",
        "        elif direccion == \"derecha\":\n",
        "            x += distancia\n",
        "\n",
        "        if distancia < 0:\n",
        "            print(\"Error: El robot no puede moverse a posiciones negativas.\")\n",
        "            return\n",
        "\n",
        "        self.posicion = (x, y)\n",
        "        self.bateria -= distancia\n",
        "        if self.bateria < 0:\n",
        "            self.bateria = 0\n",
        "\n",
        "    def disparar(self):\n",
        "        if self.bateria <= 4:\n",
        "            print(\"Error: Batería agotada, el robot no puede disparar.\")\n",
        "            return\n",
        "        self.bateria -= 5\n",
        "\n",
        "        print(f\"{self.nombre} ha disparado.\")\n",
        "\n",
        "    def cargar_bateria(self, porcentaje):\n",
        "        self.bateria += porcentaje\n",
        "        if self.bateria > 100:\n",
        "            self.bateria = 100\n",
        "        print(f\"Bateria cargada al {self.bateria}%\")\n",
        "\n",
        "    def mostrar_estado(self):\n",
        "        return f\"Robot: {self.nombre} | Posición: {self.posicion} | Batería: {self.bateria}%\"\n",
        "\n",
        "# Prueba del código\n",
        "robot = Robot(\"RoboMax\")\n",
        "print(robot.mostrar_estado())\n",
        "\n",
        "robot.mover(\"arriba\", 10)\n",
        "print(robot.mostrar_estado())\n",
        "\n",
        "robot.mover(\"izquierda\", 5)\n",
        "print(robot.mostrar_estado())\n",
        "\n",
        "robot.disparar()\n",
        "print(robot.mostrar_estado())\n",
        "\n",
        "robot.cargar_bateria(20)\n",
        "print(robot.mostrar_estado())\n",
        "\n",
        "robot.mover(\"abajo\", 50)\n",
        "print(robot.mostrar_estado())"
      ],
      "metadata": {
        "colab": {
          "base_uri": "https://localhost:8080/"
        },
        "id": "eNhRvMUE_J3v",
        "outputId": "b5f323f0-1196-45d5-ea5d-931be7b69cb8"
      },
      "execution_count": null,
      "outputs": [
        {
          "output_type": "stream",
          "name": "stdout",
          "text": [
            "Robot: RoboMax | Posición: (0, 0) | Batería: 100%\n",
            "Robot: RoboMax | Posición: (0, 10) | Batería: 90%\n",
            "Robot: RoboMax | Posición: (-5, 10) | Batería: 85%\n",
            "RoboMax ha disparado.\n",
            "Robot: RoboMax | Posición: (-5, 10) | Batería: 80%\n",
            "Bateria cargada al 100%\n",
            "Robot: RoboMax | Posición: (-5, 10) | Batería: 100%\n",
            "Robot: RoboMax | Posición: (-5, -40) | Batería: 50%\n"
          ]
        }
      ]
    },
    {
      "cell_type": "code",
      "source": [
        "import random\n",
        "\n",
        "# Excepción personalizada\n",
        "class NoHaySuficientesCartasError(Exception):\n",
        "    pass\n",
        "\n",
        "class JuegoDeCartas:\n",
        "    def __init__(self):\n",
        "        self.mazo = []\n",
        "        self.jugadores = {}\n",
        "\n",
        "    def agregar_carta(self, valor, pinta):\n",
        "        # Añade una carta al mazo.\n",
        "        self.mazo.append((valor, pinta))\n",
        "\n",
        "    def repartir(self, jugador, cantidad):\n",
        "        \"\"\"Reparte una cantidad de cartas a un jugador.\"\"\"\n",
        "        if len(self.mazo) < cantidad:\n",
        "            raise NoHaySuficientesCartasError(\"No hay suficientes cartas en el mazo para repartir.\")\n",
        "\n",
        "        if jugador not in self.jugadores:\n",
        "            self.jugadores[jugador] = []\n",
        "\n",
        "        for _ in range(cantidad):\n",
        "            carta = self.mazo.pop(0)  # Extrae la primera carta del mazo\n",
        "            self.jugadores[jugador].append(carta)\n",
        "\n",
        "    def mostrar_mano(self, jugador):\n",
        "        \"\"\"Muestra las cartas en la mano de un jugador.\"\"\"\n",
        "        if jugador in self.jugadores:\n",
        "            return f\"Mano de {jugador}: {self.jugadores[jugador]}\"\n",
        "        else:\n",
        "          return f\"{jugador} no esta registrado.\"\n",
        "\n",
        "    def mezclar_mazo(self):\n",
        "        \"\"\"Mezcla aleatoriamente el mazo de cartas.\"\"\"\n",
        "        random.shuffle(self.mazo)\n",
        "\n",
        "    def mostrar_mazo(self):\n",
        "        \"\"\"Muestra las cartas en el mazo.\"\"\"\n",
        "        return f\"Mazo: {self.mazo}\"\n",
        "\n",
        "# Prueba del código\n",
        "juego = JuegoDeCartas()\n",
        "\n",
        "# Agregando cartas al mazo\n",
        "valores = [\"As\", \"2\", \"3\", \"4\", \"5\", \"6\", \"7\", \"8\", \"9\", \"10\", \"J\", \"Q\", \"K\"]\n",
        "pintas = [\"Corazones\", \"Diamantes\", \"Tréboles\", \"Picas\"]\n",
        "\n",
        "for valor in valores:\n",
        "    for pinta in pintas:\n",
        "        juego.agregar_carta(valor, pinta)\n",
        "\n",
        "print(juego.mostrar_mazo())\n",
        "juego.mezclar_mazo()\n",
        "print(juego.mostrar_mazo())\n",
        "\n",
        "# Repartiendo cartas a los jugadores\n",
        "try:\n",
        "    juego.repartir(\"Jugador 1\", 5)\n",
        "    juego.repartir(\"Jugador 2\", 5)\n",
        "except NoHaySuficientesCartasError as e:\n",
        "    print(e)\n",
        "\n",
        "print(juego.mostrar_mano(\"Jugador 1\"))\n",
        "print(juego.mostrar_mano(\"Jugador 2\"))\n",
        "\n",
        "print(juego.mostrar_mazo())"
      ],
      "metadata": {
        "colab": {
          "base_uri": "https://localhost:8080/"
        },
        "id": "R16zWD96BGYE",
        "outputId": "4fe89296-a2e8-496f-876e-9182778da5b1"
      },
      "execution_count": null,
      "outputs": [
        {
          "output_type": "stream",
          "name": "stdout",
          "text": [
            "Mazo: [('As', 'Corazones'), ('As', 'Diamantes'), ('As', 'Tréboles'), ('As', 'Picas'), ('2', 'Corazones'), ('2', 'Diamantes'), ('2', 'Tréboles'), ('2', 'Picas'), ('3', 'Corazones'), ('3', 'Diamantes'), ('3', 'Tréboles'), ('3', 'Picas'), ('4', 'Corazones'), ('4', 'Diamantes'), ('4', 'Tréboles'), ('4', 'Picas'), ('5', 'Corazones'), ('5', 'Diamantes'), ('5', 'Tréboles'), ('5', 'Picas'), ('6', 'Corazones'), ('6', 'Diamantes'), ('6', 'Tréboles'), ('6', 'Picas'), ('7', 'Corazones'), ('7', 'Diamantes'), ('7', 'Tréboles'), ('7', 'Picas'), ('8', 'Corazones'), ('8', 'Diamantes'), ('8', 'Tréboles'), ('8', 'Picas'), ('9', 'Corazones'), ('9', 'Diamantes'), ('9', 'Tréboles'), ('9', 'Picas'), ('10', 'Corazones'), ('10', 'Diamantes'), ('10', 'Tréboles'), ('10', 'Picas'), ('J', 'Corazones'), ('J', 'Diamantes'), ('J', 'Tréboles'), ('J', 'Picas'), ('Q', 'Corazones'), ('Q', 'Diamantes'), ('Q', 'Tréboles'), ('Q', 'Picas'), ('K', 'Corazones'), ('K', 'Diamantes'), ('K', 'Tréboles'), ('K', 'Picas')]\n",
            "Mazo: [('6', 'Corazones'), ('5', 'Picas'), ('9', 'Picas'), ('2', 'Tréboles'), ('8', 'Picas'), ('5', 'Diamantes'), ('J', 'Tréboles'), ('J', 'Corazones'), ('As', 'Corazones'), ('8', 'Tréboles'), ('9', 'Corazones'), ('Q', 'Corazones'), ('2', 'Picas'), ('J', 'Diamantes'), ('2', 'Diamantes'), ('7', 'Tréboles'), ('Q', 'Tréboles'), ('9', 'Tréboles'), ('6', 'Diamantes'), ('10', 'Tréboles'), ('As', 'Diamantes'), ('Q', 'Diamantes'), ('K', 'Corazones'), ('3', 'Picas'), ('5', 'Corazones'), ('3', 'Corazones'), ('6', 'Tréboles'), ('10', 'Picas'), ('6', 'Picas'), ('4', 'Corazones'), ('4', 'Diamantes'), ('2', 'Corazones'), ('7', 'Diamantes'), ('5', 'Tréboles'), ('As', 'Tréboles'), ('K', 'Tréboles'), ('4', 'Picas'), ('10', 'Corazones'), ('K', 'Diamantes'), ('8', 'Corazones'), ('4', 'Tréboles'), ('7', 'Picas'), ('3', 'Diamantes'), ('Q', 'Picas'), ('8', 'Diamantes'), ('K', 'Picas'), ('As', 'Picas'), ('7', 'Corazones'), ('J', 'Picas'), ('3', 'Tréboles'), ('10', 'Diamantes'), ('9', 'Diamantes')]\n",
            "Mano de Jugador 1: [('6', 'Corazones'), ('5', 'Picas'), ('9', 'Picas'), ('2', 'Tréboles'), ('8', 'Picas')]\n",
            "Mano de Jugador 2: [('5', 'Diamantes'), ('J', 'Tréboles'), ('J', 'Corazones'), ('As', 'Corazones'), ('8', 'Tréboles')]\n",
            "Mazo: [('9', 'Corazones'), ('Q', 'Corazones'), ('2', 'Picas'), ('J', 'Diamantes'), ('2', 'Diamantes'), ('7', 'Tréboles'), ('Q', 'Tréboles'), ('9', 'Tréboles'), ('6', 'Diamantes'), ('10', 'Tréboles'), ('As', 'Diamantes'), ('Q', 'Diamantes'), ('K', 'Corazones'), ('3', 'Picas'), ('5', 'Corazones'), ('3', 'Corazones'), ('6', 'Tréboles'), ('10', 'Picas'), ('6', 'Picas'), ('4', 'Corazones'), ('4', 'Diamantes'), ('2', 'Corazones'), ('7', 'Diamantes'), ('5', 'Tréboles'), ('As', 'Tréboles'), ('K', 'Tréboles'), ('4', 'Picas'), ('10', 'Corazones'), ('K', 'Diamantes'), ('8', 'Corazones'), ('4', 'Tréboles'), ('7', 'Picas'), ('3', 'Diamantes'), ('Q', 'Picas'), ('8', 'Diamantes'), ('K', 'Picas'), ('As', 'Picas'), ('7', 'Corazones'), ('J', 'Picas'), ('3', 'Tréboles'), ('10', 'Diamantes'), ('9', 'Diamantes')]\n"
          ]
        }
      ]
    }
  ]
}