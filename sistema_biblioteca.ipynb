{
  "nbformat": 4,
  "nbformat_minor": 0,
  "metadata": {
    "colab": {
      "provenance": [],
      "authorship_tag": "ABX9TyPvi+8M9Wrk98CaUPU6EhBA",
      "include_colab_link": true
    },
    "kernelspec": {
      "name": "python3",
      "display_name": "Python 3"
    },
    "language_info": {
      "name": "python"
    }
  },
  "cells": [
    {
      "cell_type": "markdown",
      "metadata": {
        "id": "view-in-github",
        "colab_type": "text"
      },
      "source": [
        "<a href=\"https://colab.research.google.com/github/JuanPeralta-97/Algoritmos-2/blob/main/sistema_biblioteca.ipynb\" target=\"_parent\"><img src=\"https://colab.research.google.com/assets/colab-badge.svg\" alt=\"Open In Colab\"/></a>"
      ]
    },
    {
      "cell_type": "markdown",
      "source": [
        "# Andrea Cortes\n",
        "# Juan Peralta"
      ],
      "metadata": {
        "id": "192S4t0_dDMC"
      }
    },
    {
      "cell_type": "code",
      "execution_count": 1,
      "metadata": {
        "id": "Z2Fhs1Aq6yuA"
      },
      "outputs": [],
      "source": [
        "# Creamos una clase llamada libro\n",
        "class Libro:\n",
        "    # Definimos el constructor de la clase Libro\n",
        "    def __init__(self, titulo, autor, anio, genero, id_libro):\n",
        "        # Definimos los atributos del libro\n",
        "        self.titulo = titulo\n",
        "        self.autor = autor\n",
        "        self.anio = anio\n",
        "        self.genero = genero\n",
        "        self.id_libro = id_libro\n",
        "        self.prestado = False\n",
        "\n",
        "    # Definimos la funcion para el estado del libro\n",
        "    def __str__(self):\n",
        "        # Utilizamos una ternaria para comparar el estado y guardar el resultado\n",
        "        estado = \"Prestado\" if self.prestado else \"Disponible\"\n",
        "        # Retornamos una cadena con los datos del libro\n",
        "        return f\"ID: {self.id_libro}: {self.titulo} - {self.autor} ({self.anio}) [{estado}]\""
      ]
    },
    {
      "cell_type": "code",
      "source": [
        "# Creamos la clase usuario\n",
        "class Usuario:\n",
        "    # Definimos el constructor de la clase Usuario\n",
        "    def __init__(self, nombre, id_usuario, correo):\n",
        "        # Definimos los atributos del usuario\n",
        "        self.nombre = nombre\n",
        "        self.id_usuario = id_usuario\n",
        "        self.correo = correo\n",
        "        self.libros_prestados = []\n",
        "\n",
        "    def __str__(self):\n",
        "        # Retornamos una cadena con los datos del usuario\n",
        "        return f\"Usuario: {self.id_usuario} - {self.nombre} ({self.correo})\""
      ],
      "metadata": {
        "id": "Ra6QmHCC83Hw"
      },
      "execution_count": 2,
      "outputs": []
    },
    {
      "cell_type": "code",
      "source": [
        "# Creamos la clase biblioteca\n",
        "class Biblioteca:\n",
        "    # Definimos los atributos de la clase biblioteca\n",
        "    def __init__(self):\n",
        "        self.libros = []\n",
        "        self.usuarios = []\n",
        "        self.prestamos = {}\n",
        "        self.contador_id_libro = 1\n",
        "        self.contador_id_usuario = 1\n",
        "\n",
        "    # Definimos la funcion para ingresar libros a la biblioteca\n",
        "    def registrar_libro(self, titulo, autor, anio, genero):\n",
        "        # Creamos un objeto de la clase libro\n",
        "        libro = Libro(titulo, autor, anio, genero, self.contador_id_libro)\n",
        "        # Añadimos el libro a la biblioteca\n",
        "        self.libros.append(libro)\n",
        "        self.contador_id_libro += 1\n",
        "\n",
        "    # Definimos la funcion para registrar usuarios\n",
        "    def registrar_usuario(self, nombre, correo):\n",
        "        id_usuario = f\"0{self.contador_id_usuario}\"\n",
        "        # Creamos un objeto de la clase usuario\n",
        "        usuario = Usuario(nombre, id_usuario, correo)\n",
        "        # Añadimos el ususario a la biblioteca\n",
        "        self.usuarios.append(usuario)\n",
        "        self.contador_id_usuario += 1\n",
        "\n",
        "    # Definimos la funcion de prestamos\n",
        "    def prestar_libro(self, id_libro, id_usuario):\n",
        "\n",
        "        # Encontramos el libro por su ID y verificamos que no este prestado\n",
        "        libro = next((l for l in self.libros if l.id_libro == id_libro and not l.prestado), None)\n",
        "        # Verificamos que el usuario este registrado\n",
        "        usuario = next((u for u in self.usuarios if u.id_usuario == id_usuario), None)\n",
        "\n",
        "        # Si ambos exiten\n",
        "        if libro and usuario:\n",
        "            # Cambiamos el libro a estado prestado\n",
        "            libro.prestado = True\n",
        "            # añadimos el libro a los prestamos de ese usuario\n",
        "            usuario.libros_prestados.append(libro)\n",
        "            # Registramos en los prestamos de la biblioteca el libro y quien lo tiene\n",
        "            self.prestamos[id_libro] = id_usuario\n",
        "            print(f\"Libro '{libro.titulo}' prestado a {usuario.nombre}.\")\n",
        "        else:\n",
        "            # Si hay algun error mostramos en pantalla que no se pudo realizar la transaccion\n",
        "            print(\"No se pudo realizar el préstamo. Verifique los datos.\")\n",
        "\n",
        "    # Definimos la clase para retornar los libros\n",
        "    def devolver_libro(self, id_libro):\n",
        "        # verificamos que el libro este prestado\n",
        "        if id_libro in self.prestamos:\n",
        "            # buscamos el ID del usuario que tiene el libro y miramos quien tiene ese ID\n",
        "            usuario = next((u for u in self.usuarios if u.id_usuario == self.prestamos[id_libro]), None)\n",
        "            # buscamos el libro por su ID\n",
        "            libro = next((l for l in self.libros if l.id_libro == id_libro), None)\n",
        "            # si ambos existen\n",
        "            if usuario and libro:\n",
        "                # marcamos el libro como disponible\n",
        "                libro.prestado = False\n",
        "                # quitamos al usuario el libro prestado\n",
        "                usuario.libros_prestados.remove(libro)\n",
        "                # eliminamos el libro de los prestamos\n",
        "                del self.prestamos[id_libro]\n",
        "                print(f\"Libro '{libro.titulo}' devuelto por {usuario.nombre}.\")\n",
        "        else:\n",
        "            print(\"El libro no está registrado como prestado.\")\n",
        "\n",
        "    # definimos la clase para mostrar los libros en la biblioteca\n",
        "    def mostrar_libros(self):\n",
        "        for libro in self.libros:\n",
        "            print(libro)\n",
        "    # definimos la clase para mostrar los usuarios\n",
        "    def mostrar_usuarios(self):\n",
        "        for usuario in self.usuarios:\n",
        "            print(usuario)\n",
        "    # definimos la clase para ver los libros prestados y a quien se le presto\n",
        "    def mostrar_prestamos(self):\n",
        "      # buscamos en prestamos el ID del libro y del usuario asociado\n",
        "        for id_libro, id_usuario in self.prestamos.items():\n",
        "            # buscamos el libro por su ID\n",
        "            libro = next(l for l in self.libros if l.id_libro == id_libro)\n",
        "            # buscamos el usuario por su ID\n",
        "            usuario = next(u for u in self.usuarios if u.id_usuario == id_usuario)\n",
        "            print(f\"Libro '{libro.titulo}' prestado a {usuario.nombre}\")\n"
      ],
      "metadata": {
        "id": "Cgdld9z--mio"
      },
      "execution_count": 3,
      "outputs": []
    },
    {
      "cell_type": "code",
      "source": [
        "# Crear la biblioteca\n",
        "biblioteca = Biblioteca()\n",
        "\n",
        "# Intentar prestar un libro antes de registrar alguno\n",
        "biblioteca.prestar_libro(1, \"01\")\n",
        "\n",
        "# Registrar libros\n",
        "biblioteca.registrar_libro(\"El arte de la guerra\", \"Sun Tzu\", 500, \"Estrategia\")\n",
        "biblioteca.registrar_libro(\"Sistemas complejos\", \"Yaneer Bar-Yam\", 1997, \"Ciencia\")\n",
        "biblioteca.registrar_libro(\"El problema de los tres cuerpos\", \"Liu Cixin\", 2008, \"Ciencia ficción\")\n",
        "\n",
        "# Registrar usuarios\n",
        "biblioteca.registrar_usuario(\"Eusebio Montoya\", \"eusebio.mty@correo.org\")\n",
        "biblioteca.registrar_usuario(\"Lisbeth Orellana\", \"lisbeth.orellana@midominio.net\")\n",
        "\n",
        "# Intentar prestar un libro a un usuario inexistente\n",
        "biblioteca.prestar_libro(2, \"99\")\n",
        "\n",
        "# Prestar libros correctamente\n",
        "biblioteca.prestar_libro(1, \"01\")  # \"El arte de la guerra\" a Eusebio\n",
        "biblioteca.prestar_libro(2, \"02\")  # \"Sistemas complejos\" a Lisbeth\n",
        "\n",
        "# Intentar prestar un libro ya prestado\n",
        "biblioteca.prestar_libro(1, \"02\")\n",
        "\n",
        "# Devolver un libro correctamente\n",
        "biblioteca.devolver_libro(1)  # Devolver \"El arte de la guerra\"\n",
        "\n",
        "# Intentar devolver un libro que no está prestado\n",
        "biblioteca.devolver_libro(3)\n",
        "\n",
        "# Mostrar préstamos activos\n",
        "print(\"\\n -Préstamos activos:\")\n",
        "biblioteca.mostrar_prestamos()\n",
        "\n",
        "# Mostrar todos los libros en la biblioteca\n",
        "print(\"\\n -Libros en la biblioteca:\")\n",
        "for libro in biblioteca.libros:\n",
        "    print(libro)\n",
        "\n",
        "# Mostrar todos los usuarios y sus libros prestados\n",
        "print(\"\\n -Usuarios registrados y sus libros prestados:\")\n",
        "for usuario in biblioteca.usuarios:\n",
        "    print(f\"Usuario: {usuario.nombre} (ID: {usuario.id_usuario})\")\n",
        "    if usuario.libros_prestados:\n",
        "        print(\"  📖 Libros prestados:\")\n",
        "        for libro in usuario.libros_prestados:\n",
        "            print(f\"    - {libro.titulo}\")\n",
        "    else:\n",
        "        print(\"  ✅ No tiene libros prestados\")\n"
      ],
      "metadata": {
        "colab": {
          "base_uri": "https://localhost:8080/"
        },
        "id": "6HniUxBK_YSM",
        "outputId": "e980ffb9-7a90-44f2-b9da-9b8d6e3cb3e8"
      },
      "execution_count": 4,
      "outputs": [
        {
          "output_type": "stream",
          "name": "stdout",
          "text": [
            "No se pudo realizar el préstamo. Verifique los datos.\n",
            "No se pudo realizar el préstamo. Verifique los datos.\n",
            "Libro 'El arte de la guerra' prestado a Eusebio Montoya.\n",
            "Libro 'Sistemas complejos' prestado a Lisbeth Orellana.\n",
            "No se pudo realizar el préstamo. Verifique los datos.\n",
            "Libro 'El arte de la guerra' devuelto por Eusebio Montoya.\n",
            "El libro no está registrado como prestado.\n",
            "\n",
            " -Préstamos activos:\n",
            "Libro 'Sistemas complejos' prestado a Lisbeth Orellana\n",
            "\n",
            " -Libros en la biblioteca:\n",
            "ID: 1: El arte de la guerra - Sun Tzu (500) [Disponible]\n",
            "ID: 2: Sistemas complejos - Yaneer Bar-Yam (1997) [Prestado]\n",
            "ID: 3: El problema de los tres cuerpos - Liu Cixin (2008) [Disponible]\n",
            "\n",
            " -Usuarios registrados y sus libros prestados:\n",
            "Usuario: Eusebio Montoya (ID: 01)\n",
            "  ✅ No tiene libros prestados\n",
            "Usuario: Lisbeth Orellana (ID: 02)\n",
            "  📖 Libros prestados:\n",
            "    - Sistemas complejos\n"
          ]
        }
      ]
    }
  ]
}